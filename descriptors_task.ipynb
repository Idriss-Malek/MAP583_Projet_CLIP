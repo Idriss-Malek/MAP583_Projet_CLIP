{
 "cells": [
  {
   "cell_type": "code",
   "execution_count": 6,
   "id": "89536908",
   "metadata": {},
   "outputs": [],
   "source": [
    "from Classifier import Classifier\n",
    "import os\n",
    "import openai\n",
    "import configparser\n",
    "\n",
    "config = configparser.ConfigParser()\n",
    "config.read('config.ini')\n",
    "\n",
    "api_key = config['openai']['api_key']\n",
    "openai.api_key = api_key"
   ]
  },
  {
   "cell_type": "code",
   "execution_count": 5,
   "id": "6afdf6e2",
   "metadata": {},
   "outputs": [
    {
     "data": {
      "text/plain": [
       "str"
      ]
     },
     "execution_count": 5,
     "metadata": {},
     "output_type": "execute_result"
    }
   ],
   "source": [
    "openai.api_key"
   ]
  },
  {
   "cell_type": "code",
   "execution_count": null,
   "id": "f7595ab6",
   "metadata": {},
   "outputs": [],
   "source": [
    "classifier=Classifier(['cat','dog'])"
   ]
  },
  {
   "cell_type": "code",
   "execution_count": null,
   "id": "86e29cb4",
   "metadata": {},
   "outputs": [],
   "source": [
    "classifier.descriptors"
   ]
  },
  {
   "cell_type": "code",
   "execution_count": null,
   "id": "799b4755",
   "metadata": {},
   "outputs": [],
   "source": [
    "classifier.descriptors_fn()"
   ]
  },
  {
   "cell_type": "code",
   "execution_count": null,
   "id": "c56ae72e",
   "metadata": {},
   "outputs": [],
   "source": []
  }
 ],
 "metadata": {
  "kernelspec": {
   "display_name": "Python 3 (ipykernel)",
   "language": "python",
   "name": "python3"
  },
  "language_info": {
   "codemirror_mode": {
    "name": "ipython",
    "version": 3
   },
   "file_extension": ".py",
   "mimetype": "text/x-python",
   "name": "python",
   "nbconvert_exporter": "python",
   "pygments_lexer": "ipython3",
   "version": "3.8.8"
  }
 },
 "nbformat": 4,
 "nbformat_minor": 5
}
