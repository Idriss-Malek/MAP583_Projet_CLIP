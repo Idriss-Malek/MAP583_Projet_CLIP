{
 "cells": [
  {
   "cell_type": "markdown",
   "id": "2ac8f362",
   "metadata": {},
   "source": [
    "# Testing on caltech101 Dataset"
   ]
  },
  {
   "cell_type": "markdown",
   "id": "86b4eed3",
   "metadata": {},
   "source": [
    "**Importing the libraries and loading the dataset**"
   ]
  },
  {
   "cell_type": "code",
   "execution_count": null,
   "id": "68ee2ad8",
   "metadata": {},
   "outputs": [],
   "source": [
    "import torchvision.transforms as transforms\n",
    "from torch.utils.data import Dataset\n",
    "from torchvision.datasets import ImageFolder\n",
    "import matplotlib.pyplot as plt\n",
    "from Classifier import Classifier\n",
    "import os\n",
    "import openai\n",
    "import configparser\n",
    "import torch\n",
    "import clip\n",
    "from torch.utils.data import Subset\n",
    "config = configparser.ConfigParser()\n",
    "config.read('config.ini')\n",
    "\n",
    "api_key = config['openai']['api_key']\n",
    "openai.api_key = api_key\n",
    "\n",
    "# Load the dataset using ImageFolder\n",
    "dataset = ImageFolder(root='./caltech101')\n",
    "labels=dataset.classes"
   ]
  },
  {
   "cell_type": "code",
   "execution_count": null,
   "id": "00f61b9c",
   "metadata": {
    "scrolled": true
   },
   "outputs": [],
   "source": [
    "print(f\"Label: {labels[dataset[2051][1]]}\")\n",
    "plt.imshow(dataset[2051][0])"
   ]
  },
  {
   "cell_type": "markdown",
   "id": "00ced259",
   "metadata": {},
   "source": [
    "**Creating a classifier and loading descriptors that were generated previously**"
   ]
  },
  {
   "cell_type": "code",
   "execution_count": null,
   "id": "d04c4447",
   "metadata": {},
   "outputs": [],
   "source": [
    "caltech=Classifier(labels)"
   ]
  },
  {
   "cell_type": "code",
   "execution_count": null,
   "id": "9120c1b9",
   "metadata": {},
   "outputs": [],
   "source": [
    "caltech.load_classifier('caltech.txt')"
   ]
  },
  {
   "cell_type": "code",
   "execution_count": null,
   "id": "ea74edcf",
   "metadata": {
    "scrolled": true
   },
   "outputs": [],
   "source": [
    "caltech.descriptors['Motorbikes']"
   ]
  },
  {
   "cell_type": "markdown",
   "id": "ada9bc3b",
   "metadata": {},
   "source": [
    "**Classifying with the descriptors**"
   ]
  },
  {
   "cell_type": "markdown",
   "id": "8e41414d",
   "metadata": {},
   "source": [
    "indices = torch.randperm(len(dataset))[:100]\n",
    "dataset2=[]\n",
    "for idx in indices:\n",
    "    dataset2.append(dataset[idx])"
   ]
  },
  {
   "cell_type": "markdown",
   "id": "2a9fe468",
   "metadata": {},
   "source": [
    "images=torch.stack([caltech.preprocess(image) for (image,label) in dataset[]])"
   ]
  },
  {
   "cell_type": "markdown",
   "id": "4af6ec20",
   "metadata": {},
   "source": [
    "pred=caltech.multi_classify(images,preprocessed=True)\n",
    "print(f\"Accuracy: {torch.mean((pred==torch.Tensor([label for (image,label) in dataset2]))+0.)}\")"
   ]
  },
  {
   "cell_type": "code",
   "execution_count": null,
   "id": "6509913b",
   "metadata": {},
   "outputs": [],
   "source": [
    "device = \"cuda\" if torch.cuda.is_available() else \"cpu\"\n",
    "model, preprocess = clip.load('ViT-B/32', device)\n",
    "tokenized_text = torch.cat([clip.tokenize(label) for label in labels]).to(device)"
   ]
  },
  {
   "cell_type": "code",
   "execution_count": null,
   "id": "5bc22408",
   "metadata": {},
   "outputs": [],
   "source": [
    "from time import time\n",
    "sum1=0\n",
    "sum2=0\n",
    "for i in range(0,len(dataset),100):\n",
    "    if i==8900:\n",
    "        subset=Subset(dataset,[j for j in range(i,len(dataset))])\n",
    "        images=torch.stack([caltech.preprocess(image) for (image,label) in subset])\n",
    "        lab=torch.Tensor([label for (image,label) in subset])\n",
    "    else:\n",
    "        subset=Subset(dataset,[j for j in range(i,i+100)])\n",
    "        images=torch.stack([caltech.preprocess(image) for (image,label) in subset])\n",
    "        lab=torch.Tensor([label for (image,label) in subset])\n",
    "    print(f'Starting predictions: {i}')\n",
    "    t=time()\n",
    "    pred1=caltech.multi_classify(images,preprocessed=True)\n",
    "    sum1+=torch.sum((pred1==lab)+0.)\n",
    "    \n",
    "    logits=model(images,tokenized_text)[0]\n",
    "    pred2=torch.argmax(logits,dim=1)\n",
    "    sum2+=torch.sum((pred2==lab)+0.)\n",
    "    print(time()-t)\n",
    "avg1=sum1/len(dataset)\n",
    "avg2=sum2/len(dataset)\n",
    "\n",
    "print(f'Accuracy of the custom algorithm: {avg1}')\n",
    "print(f'Accuracy of the traditional zero shot prediction: {avg2}')"
   ]
  },
  {
   "cell_type": "markdown",
   "id": "d63d2f43",
   "metadata": {},
   "source": [
    "**Classifying without descriptors**"
   ]
  },
  {
   "cell_type": "markdown",
   "id": "34985de5",
   "metadata": {},
   "source": [
    "device = \"cuda\" if torch.cuda.is_available() else \"cpu\"\n",
    "model, preprocess = clip.load('ViT-B/32', device)"
   ]
  },
  {
   "cell_type": "markdown",
   "id": "775f1802",
   "metadata": {},
   "source": [
    "tokenized_text = torch.cat([clip.tokenize(label) for label in labels]).to(device)\n",
    "logits=model(images,tokenized_text)[0]\n",
    "pred=torch.argmax(logits,dim=1)\n",
    "print(f\"Accuracy: {torch.mean((pred==torch.Tensor([label for (image,label) in dataset2]))+0.)}\")"
   ]
  }
 ],
 "metadata": {
  "kernelspec": {
   "display_name": "Python 3 (ipykernel)",
   "language": "python",
   "name": "python3"
  },
  "language_info": {
   "codemirror_mode": {
    "name": "ipython",
    "version": 3
   },
   "file_extension": ".py",
   "mimetype": "text/x-python",
   "name": "python",
   "nbconvert_exporter": "python",
   "pygments_lexer": "ipython3",
   "version": "3.8.8"
  }
 },
 "nbformat": 4,
 "nbformat_minor": 5
}
