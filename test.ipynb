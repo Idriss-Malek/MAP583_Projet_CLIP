{
 "cells": [
  {
   "cell_type": "code",
   "execution_count": 1,
   "id": "57456498",
   "metadata": {},
   "outputs": [],
   "source": [
    "import torch\n",
    "import clip\n",
    "from PIL import Image\n",
    "import matplotlib.pyplot as plt\n",
    "import openai\n",
    "import requests\n",
    "from io import BytesIO\n",
    "import torchvision\n",
    "from transformers import GPT2LMHeadModel, GPT2Tokenizer"
   ]
  },
  {
   "cell_type": "code",
   "execution_count": null,
   "id": "85c67b64",
   "metadata": {},
   "outputs": [],
   "source": [
    "device = \"cuda\" if torch.cuda.is_available() else \"cpu\"\n",
    "model, preprocess = clip.load(\"ViT-B/32\", device=device)"
   ]
  },
  {
   "cell_type": "code",
   "execution_count": null,
   "id": "ad834496",
   "metadata": {},
   "outputs": [],
   "source": [
    "image = preprocess(Image.open(\"clip.jpg\")).unsqueeze(0).to(device)\n",
    "text = clip.tokenize([\"eiffel tower\", \"pisa tower\", \"burj khalifa\"]).to(device)"
   ]
  },
  {
   "cell_type": "code",
   "execution_count": null,
   "id": "d992642f",
   "metadata": {},
   "outputs": [],
   "source": [
    "plt.imshow(image.squeeze().permute(1, 2, 0))"
   ]
  },
  {
   "cell_type": "code",
   "execution_count": null,
   "id": "e47fe9db",
   "metadata": {},
   "outputs": [],
   "source": [
    "with torch.no_grad():\n",
    "    image_features = model.encode_image(image)\n",
    "    text_features = model.encode_text(text)\n",
    "    \n",
    "    logits_per_image, logits_per_text = model(image, text)\n",
    "    probs = logits_per_image.softmax(dim=-1).cpu().numpy()\n",
    "\n",
    "print(\"Label probs:\", probs)"
   ]
  },
  {
   "cell_type": "code",
   "execution_count": null,
   "id": "6f1eeef1",
   "metadata": {},
   "outputs": [],
   "source": [
    "# Load the GPT-2 model and tokenizer\n",
    "model_name = 'gpt2-medium'\n",
    "tokenizer = GPT2Tokenizer.from_pretrained(model_name)\n",
    "model = GPT2LMHeadModel.from_pretrained(model_name)"
   ]
  },
  {
   "cell_type": "code",
   "execution_count": null,
   "id": "f2ffac64",
   "metadata": {},
   "outputs": [],
   "source": [
    "# Define the function that generates features for a category\n",
    "\n",
    "def generate_features(category):\n",
    "    # Generate the input text for the GPT-2 model\n",
    "    input_text = f\"What are the visual characteristics of {category}?\"\n",
    "    input_ids = tokenizer.encode(input_text, return_tensors='pt')\n",
    "\n",
    "    # Generate text from the GPT-2 model\n",
    "    output = model.generate(input_ids, max_length=100,pad_token_id=tokenizer.eos_token_id, do_sample=True, temperature=0.7)\n",
    "    output_text = tokenizer.decode(output[0], skip_special_tokens=True)\n",
    "\n",
    "\n",
    "\n",
    "    return output_text\n",
    "\n",
    "# Example usage\n",
    "category = 'store'\n",
    "features = generate_features(category)\n",
    "print(features)"
   ]
  },
  {
   "cell_type": "code",
   "execution_count": 7,
   "id": "50405074",
   "metadata": {},
   "outputs": [],
   "source": [
    "from transformers import pipeline, set_seed\n",
    "generator = pipeline('text-generation', model='gpt2-large')\n",
    "set_seed(42)\n"
   ]
  },
  {
   "cell_type": "code",
   "execution_count": 19,
   "id": "81a58e52",
   "metadata": {},
   "outputs": [],
   "source": [
    "def generate_features(category):\n",
    "    prompt = f\"What are 5 features that distinguish {category} in an image?\"\n",
    "    features=generator(prompt, max_length=100, num_return_sequences=1)\n",
    "    return features\n"
   ]
  },
  {
   "cell_type": "code",
   "execution_count": 20,
   "id": "84c3208d",
   "metadata": {},
   "outputs": [
    {
     "name": "stderr",
     "output_type": "stream",
     "text": [
      "Setting `pad_token_id` to `eos_token_id`:50256 for open-end generation.\n"
     ]
    }
   ],
   "source": [
    "features=generate_features('airplane')"
   ]
  },
  {
   "cell_type": "code",
   "execution_count": 21,
   "id": "5c46f3c9",
   "metadata": {},
   "outputs": [
    {
     "data": {
      "text/plain": [
       "'What are 5 features that distinguish airplane in an image?\\n\\nIn this article, we will take a look at the 5 features that distinguish an airplane in an image from other images (in our view at least). The purpose of this article is to demonstrate the differences between a simple airframe and a complex one by showing how these features have been added to aviation history, and how we could do the same with modern airplanes and their digital image recorders.\\n\\nSimple airframes\\n\\nThe simplest'"
      ]
     },
     "execution_count": 21,
     "metadata": {},
     "output_type": "execute_result"
    }
   ],
   "source": [
    "features[0]['generated_text']"
   ]
  },
  {
   "cell_type": "code",
   "execution_count": null,
   "id": "fe7f3e06",
   "metadata": {},
   "outputs": [],
   "source": []
  }
 ],
 "metadata": {
  "kernelspec": {
   "display_name": "Python 3 (ipykernel)",
   "language": "python",
   "name": "python3"
  },
  "language_info": {
   "codemirror_mode": {
    "name": "ipython",
    "version": 3
   },
   "file_extension": ".py",
   "mimetype": "text/x-python",
   "name": "python",
   "nbconvert_exporter": "python",
   "pygments_lexer": "ipython3",
   "version": "3.8.8"
  }
 },
 "nbformat": 4,
 "nbformat_minor": 5
}
