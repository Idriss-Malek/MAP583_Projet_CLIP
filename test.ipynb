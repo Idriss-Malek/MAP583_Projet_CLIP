{
 "cells": [
  {
   "cell_type": "code",
   "execution_count": 1,
   "id": "57456498",
   "metadata": {},
   "outputs": [],
   "source": [
    "import torch\n",
    "import clip\n",
    "from PIL import Image\n",
    "import matplotlib.pyplot as plt\n",
    "import openai\n",
    "import requests\n",
    "from io import BytesIO\n",
    "import torchvision\n",
    "from transformers import GPT2LMHeadModel, GPT2Tokenizer"
   ]
  },
  {
   "cell_type": "code",
   "execution_count": null,
   "id": "85c67b64",
   "metadata": {},
   "outputs": [],
   "source": [
    "device = \"cuda\" if torch.cuda.is_available() else \"cpu\"\n",
    "model, preprocess = clip.load(\"ViT-B/32\", device=device)"
   ]
  },
  {
   "cell_type": "code",
   "execution_count": null,
   "id": "ad834496",
   "metadata": {},
   "outputs": [],
   "source": [
    "image = preprocess(Image.open(\"clip.jpg\")).unsqueeze(0).to(device)\n",
    "text = clip.tokenize([\"eiffel tower\", \"pisa tower\", \"burj khalifa\"]).to(device)"
   ]
  },
  {
   "cell_type": "code",
   "execution_count": null,
   "id": "d992642f",
   "metadata": {},
   "outputs": [],
   "source": [
    "plt.imshow(image.squeeze().permute(1, 2, 0))"
   ]
  },
  {
   "cell_type": "code",
   "execution_count": null,
   "id": "e47fe9db",
   "metadata": {},
   "outputs": [],
   "source": [
    "with torch.no_grad():\n",
    "    image_features = model.encode_image(image)\n",
    "    text_features = model.encode_text(text)\n",
    "    \n",
    "    logits_per_image, logits_per_text = model(image, text)\n",
    "    probs = logits_per_image.softmax(dim=-1).cpu().numpy()\n",
    "\n",
    "print(\"Label probs:\", probs)"
   ]
  },
  {
   "cell_type": "code",
   "execution_count": 6,
   "id": "6f1eeef1",
   "metadata": {},
   "outputs": [],
   "source": [
    "# Load the GPT-2 model and tokenizer\n",
    "model_name = 'gpt2-large'\n",
    "tokenizer = GPT2Tokenizer.from_pretrained(model_name)\n",
    "model = GPT2LMHeadModel.from_pretrained(model_name)"
   ]
  },
  {
   "cell_type": "code",
   "execution_count": 7,
   "id": "f2ffac64",
   "metadata": {},
   "outputs": [],
   "source": [
    "# Define the function that generates features for a category\n",
    "\n",
    "def generate_features(category):\n",
    "    # Generate the input text for the GPT-2 model\n",
    "    input_text = f\"Q: What are useful features for distinguishing a {category} in a photo without any explanation?\\nA: There are several useful visual features to tell there is a {category} in a photo:\\n-\"\n",
    "    input_ids = tokenizer.encode(input_text, return_tensors='pt')\n",
    "\n",
    "    # Generate text from the GPT-2 model\n",
    "    output = model.generate(input_ids, max_length=100,pad_token_id=tokenizer.eos_token_id, do_sample=True, temperature=0.7)\n",
    "    output_text = tokenizer.decode(output[0], skip_special_tokens=True)\n",
    "\n",
    "\n",
    "\n",
    "    return output_text\n"
   ]
  },
  {
   "cell_type": "code",
   "execution_count": 8,
   "id": "19344116",
   "metadata": {},
   "outputs": [
    {
     "name": "stdout",
     "output_type": "stream",
     "text": [
      "Q: What are useful features for distinguishing a store in a photo without any explanation?\n",
      "A: There are several useful visual features to tell there is a store in a photo:\n",
      "- The store is large\n",
      "The store is in a well-lit area\n",
      "The store is in the center of the photo\n",
      "- The store is in a location that is not the one shown on a map\n",
      "- The store is in a well-lit area with no trees\n",
      "- The store is in a\n"
     ]
    }
   ],
   "source": [
    "# Example usage\n",
    "category = 'store'\n",
    "features = generate_features(category)\n",
    "print(features)"
   ]
  },
  {
   "cell_type": "code",
   "execution_count": null,
   "id": "5e7d0180",
   "metadata": {},
   "outputs": [],
   "source": []
  }
 ],
 "metadata": {
  "kernelspec": {
   "display_name": "Python 3 (ipykernel)",
   "language": "python",
   "name": "python3"
  },
  "language_info": {
   "codemirror_mode": {
    "name": "ipython",
    "version": 3
   },
   "file_extension": ".py",
   "mimetype": "text/x-python",
   "name": "python",
   "nbconvert_exporter": "python",
   "pygments_lexer": "ipython3",
   "version": "3.8.8"
  }
 },
 "nbformat": 4,
 "nbformat_minor": 5
}
